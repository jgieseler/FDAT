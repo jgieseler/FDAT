{
 "cells": [
  {
   "cell_type": "code",
   "execution_count": 1,
   "id": "cd9ea88d-ba38-439e-b498-227897730a2a",
   "metadata": {},
   "outputs": [],
   "source": [
    "import os\n",
    "import spacepy.pycdf as pycdf\n",
    "\n",
    "def debug_cdf_file(filepath):\n",
    "    \"\"\"CDF file debugging to check the fit for FDAT GUI\"\"\"\n",
    "    print(f\"\\n===== Debugging CDF File =====\")\n",
    "    print(f\"Full Path: {filepath}\")\n",
    "    \n",
    "    # Check file existence\n",
    "    if not os.path.exists(filepath):\n",
    "        print(\"❌ File does not exist\")\n",
    "        return\n",
    "    \n",
    "    # File size and permissions\n",
    "    print(f\"File Size: {os.path.getsize(filepath)} bytes\")\n",
    "    print(f\"Readable: {os.access(filepath, os.R_OK)}\")\n",
    "    \n",
    "    try:\n",
    "        # Open CDF file\n",
    "        with pycdf.CDF(filepath) as cdf:\n",
    "            # List all variables\n",
    "            print(\"\\nVariables in CDF:\")\n",
    "            variables = list(cdf.keys())\n",
    "            for var in variables:\n",
    "                print(f\"- {var}\")\n",
    "            \n",
    "            # Check for time-related variables\n",
    "            time_vars = [v for v in variables if any(t in v.lower() for t in ['time', 'epoch'])]\n",
    "            print(\"\\nTime-related variables:\")\n",
    "            for var in time_vars:\n",
    "                print(f\"- {var}\")\n",
    "                try:\n",
    "                    print(f\"  Type: {cdf[var].type}\")\n",
    "                    print(f\"  Shape: {cdf[var].shape}\")\n",
    "                    print(f\"  First few values: {cdf[var][:5] if cdf[var].shape[0] > 0 else 'Empty'}\")\n",
    "                except Exception as e:\n",
    "                    print(f\"  Error examining variable: {e}\")\n",
    "            \n",
    "            # Global attributes\n",
    "            print(\"\\nGlobal Attributes:\")\n",
    "            for attr in cdf.attrs:\n",
    "                print(f\"- {attr}: {cdf.attrs[attr]}\")\n",
    "    \n",
    "    except Exception as e:\n",
    "        print(f\"❌ Error opening CDF file: {e}\")\n",
    "        import traceback\n",
    "        traceback.print_exc()\n",
    "\n"
   ]
  },
  {
   "cell_type": "code",
   "execution_count": 2,
   "id": "6f374643-ba0e-45d0-8bf5-ab1549d149c4",
   "metadata": {},
   "outputs": [
    {
     "name": "stdout",
     "output_type": "stream",
     "text": [
      "\n",
      "===== Debugging CDF File =====\n",
      "Full Path: data/IP/WIND/WIND_mf_2003.cdf\n",
      "File Size: 14730570 bytes\n",
      "Readable: True\n",
      "\n",
      "Variables in CDF:\n",
      "- Epoch\n",
      "- B\n",
      "- dB\n",
      "- Bx\n",
      "- By\n",
      "- Bz\n",
      "\n",
      "Time-related variables:\n",
      "- Epoch\n",
      "  Type: <bound method Var.type of <Var:\n",
      "CDF_TIME_TT2000 [525600]\n",
      ">>\n",
      "  Shape: (525600,)\n",
      "  First few values: [datetime.datetime(2003, 1, 1, 0, 0, 30)\n",
      " datetime.datetime(2003, 1, 1, 0, 1, 30)\n",
      " datetime.datetime(2003, 1, 1, 0, 2, 30)\n",
      " datetime.datetime(2003, 1, 1, 0, 3, 30)\n",
      " datetime.datetime(2003, 1, 1, 0, 4, 30)]\n",
      "\n",
      "Global Attributes:\n",
      "- Dataset_Name: WI_H3-RTN_MFI\n",
      "- Time_resolution: 1 min\n",
      "- Coords: RTN\n",
      "- DOI: https://doi.org/10.48322/s1d0-5q92\n",
      "- Creation_Date: 2025-03-11\n",
      "- Processed_By: G. Chikunova\n"
     ]
    }
   ],
   "source": [
    "# Use the function\n",
    "filepath = r'data/IP/WIND/WIND_mf_2003.cdf'\n",
    "debug_cdf_file(filepath)"
   ]
  },
  {
   "cell_type": "code",
   "execution_count": 12,
   "id": "deb59587-121f-46e5-a78a-ecb70eda4a6b",
   "metadata": {},
   "outputs": [
    {
     "name": "stdout",
     "output_type": "stream",
     "text": [
      "\n",
      "===== Debugging CDF File =====\n",
      "Full Path: data/GCR/MSL_RAD/MSL_RAD_gcr_2015.cdf\n",
      "File Size: 137077 bytes\n",
      "Readable: True\n",
      "\n",
      "Variables in CDF:\n",
      "- Epoch\n",
      "- DoseE_filtered\n",
      "\n",
      "Time-related variables:\n",
      "- Epoch\n",
      "  Type: <bound method Var.type of <Var:\n",
      "CDF_EPOCH [8285]\n",
      ">>\n",
      "  Shape: (8285,)\n",
      "  First few values: [datetime.datetime(2015, 1, 1, 0, 55, 33)\n",
      " datetime.datetime(2015, 1, 1, 1, 57, 12)\n",
      " datetime.datetime(2015, 1, 1, 2, 58, 51)\n",
      " datetime.datetime(2015, 1, 1, 4, 0, 30)\n",
      " datetime.datetime(2015, 1, 1, 5, 2, 9)]\n",
      "\n",
      "Global Attributes:\n",
      "- Detector: MSL RAD\n",
      "- Time_resolution: 1 hour\n",
      "- Year: 2015\n",
      "- Provided_by: B. Heber (CAU)\n",
      "- Collected_by: G. Chikunova\n",
      "- Creation_date: 2025-04-27\n"
     ]
    }
   ],
   "source": [
    "filepath = r'data/GCR/MSL_RAD/MSL_RAD_gcr_2015.cdf'\n",
    "debug_cdf_file(filepath)"
   ]
  },
  {
   "cell_type": "code",
   "execution_count": null,
   "id": "aa436f48-cdb6-4f8c-a042-3b609d27792c",
   "metadata": {},
   "outputs": [],
   "source": []
  }
 ],
 "metadata": {
  "kernelspec": {
   "display_name": "Python 3 (ipykernel)",
   "language": "python",
   "name": "python3"
  },
  "language_info": {
   "codemirror_mode": {
    "name": "ipython",
    "version": 3
   },
   "file_extension": ".py",
   "mimetype": "text/x-python",
   "name": "python",
   "nbconvert_exporter": "python",
   "pygments_lexer": "ipython3",
   "version": "3.11.7"
  }
 },
 "nbformat": 4,
 "nbformat_minor": 5
}
